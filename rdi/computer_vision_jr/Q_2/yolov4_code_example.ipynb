{
  "cells": [
    {
      "cell_type": "markdown",
      "source": [
        "# **Solution Overview: Team Detection and Classification with YOLOv4**\n",
        "\n",
        "The goal of this project is to provide sample code and a proposal running for a team detection and classification system that can distinguish among players of different teams in a given image or video. The solution aims to automatically identify and locate players on the field and assign the appropriate team labels to each player.\n",
        "\n",
        "YOLO (You Only Look Once) is a popular real-time object detection algorithm that directly predicts bounding boxes and class probabilities in a single pass through the network. It is a one stage object detector that divides the input image into a grid and applies convolutional layers to simultaneously predict bounding boxes and their associated class probabilities.\n",
        "\n",
        " ## **Dataset Preparation**\n",
        "\n",
        "In order to use the YOLO algorithm for this problem, we would need to prepare the dataset in a specific format suitable for YOLO's training requirements.\n",
        "\n",
        "YOLO requires a specific label format and annotations of the images. We can annotate the training images by drawing bounding boxes around the players and labeling them with their corresponding team classes (for example, Team 1 and Team 2), by using annotation tools like LabelImg. The annotations should be saved in a format that includes the bounding box coordinates and class labels for each player, as *.txt file per image (if no objects in image, no *.txt file is required).\n",
        "\n",
        "Finally, the annotated dataset is divided into training, validation, and testing sets. Typically, a common split is around 70-80% for training, 10-15% for validation, and the remaining portion for testing.\n",
        "\n",
        "## **Organize Directories and Configuration Files**\n",
        "\n",
        "This step involves properly configuring the custom .cfg, obj.data, obj.names, train.txt and test.txt files necessary for YOLO. These files are customized based on the problem, the dataset and based on specific requirements.  Additional information and comments within the implementation code provide  details on the customization.\n",
        "\n",
        "## **Model Development**\n",
        "\n",
        "The YOLOv4 architecture is utilized for team detection and classification. Pre-trained weights for the convolutional layers are downloaded, enhancing the accuracy of the custom object detector without requiring extensive training.\n",
        "\n",
        "The network is trained using the annotated dataset and the customized YOLOv4 configuration file. The training is performed using the Darknet framework, optimizing the model parameters to minimize the classification error. The training progress, including loss and accuracy, can be visualized using the chart.png file.\n",
        "\n",
        "## **Inference and Deployment**\n",
        "The Mean Average Precision (mAP) of the trained model is computed to assess its performance on the test set. The yolov4-obj_best.weights file, representing the best-performing weights achieved during training, is used for the evaluation.\n",
        "\n",
        "The output predictions, including bounding boxes and class labels, can be displayed or saved for further analysis or visualization. The IoU, mAP, precision, and recall metrics provide a quantitative assessment of the model's performance in accurately detecting and classifying teams and players.\n"
      ],
      "metadata": {
        "id": "wYDMX9v76Jhq"
      }
    },
    {
      "cell_type": "markdown",
      "metadata": {
        "id": "gE3azXoR_pWi"
      },
      "source": [
        "# Cloning and Building Darknet\n",
        "The following cells will clone darknet from AlexeyAB's repository, adjust the Makefile to enable OPENCV and GPU for darknet and then build darknet."
      ]
    },
    {
      "cell_type": "code",
      "execution_count": null,
      "metadata": {
        "colab": {
          "background_save": true
        },
        "id": "68eMertgIxaB"
      },
      "outputs": [],
      "source": [
        "# Clone darknet repo\n",
        "!git clone https://github.com/AlexeyAB/darknet"
      ]
    },
    {
      "cell_type": "code",
      "execution_count": null,
      "metadata": {
        "colab": {
          "background_save": true
        },
        "id": "xym8_m8CIyXK"
      },
      "outputs": [],
      "source": [
        "# Change makefile to have GPU and OPENCV enabled\n",
        "%cd darknet\n",
        "!sed -i 's/OPENCV=0/OPENCV=1/' Makefile\n",
        "!sed -i 's/GPU=0/GPU=1/' Makefile\n",
        "!sed -i 's/CUDNN=0/CUDNN=1/' Makefile\n",
        "!sed -i 's/CUDNN_HALF=0/CUDNN_HALF=1/' Makefile"
      ]
    },
    {
      "cell_type": "code",
      "execution_count": null,
      "metadata": {
        "id": "5uloUwmUKF05"
      },
      "outputs": [],
      "source": [
        "# Verify CUDA\n",
        "!/usr/local/cuda/bin/nvcc --version"
      ]
    },
    {
      "cell_type": "code",
      "execution_count": null,
      "metadata": {
        "id": "q2Jjv0yRKLPe"
      },
      "outputs": [],
      "source": [
        "# make darknet (builds darknet so that you can use the darknet executable file)\n",
        "!make"
      ]
    },
    {
      "cell_type": "markdown",
      "metadata": {
        "id": "xn7TpB-UMBWf"
      },
      "source": [
        "# Defining Helper Functions\n",
        "\n",
        "These functions are helper functions that will allow us to show images in  Colab Notebook after running detections, as well as download images."
      ]
    },
    {
      "cell_type": "code",
      "execution_count": null,
      "metadata": {
        "id": "G9Fv0wjCMPYY"
      },
      "outputs": [],
      "source": [
        "# Helper functions\n",
        "def imShow(path):\n",
        "  import cv2\n",
        "  import matplotlib.pyplot as plt\n",
        "  %matplotlib inline\n",
        "\n",
        "  image = cv2.imread(path)\n",
        "  height, width = image.shape[:2]\n",
        "  resized_image = cv2.resize(image,(3*width, 3*height), interpolation = cv2.INTER_CUBIC)\n",
        "\n",
        "  fig = plt.gcf()\n",
        "  fig.set_size_inches(18, 10)\n",
        "  plt.axis(\"off\")\n",
        "  plt.imshow(cv2.cvtColor(resized_image, cv2.COLOR_BGR2RGB))\n",
        "  plt.show()\n",
        "\n",
        "# use this to download a file\n",
        "def download(path):\n",
        "  from google.colab import files\n",
        "  files.download(path)"
      ]
    },
    {
      "cell_type": "markdown",
      "metadata": {
        "id": "F6W6MlHRVEfA"
      },
      "source": [
        "# Upload the files to use\n",
        "Upload files from Google Drive or from your local machine to the cloud VM and run detections.\n",
        "\n",
        "For example, I'm using my Google Drive where I could have stored the dataset.\n",
        "\n"
      ]
    },
    {
      "cell_type": "code",
      "execution_count": null,
      "metadata": {
        "id": "uMLpWp-DZSZY"
      },
      "outputs": [],
      "source": [
        "%cd ..\n",
        "from google.colab import drive\n",
        "drive.mount('/content/gdrive')\n",
        "\n",
        "# symbolic link so that the path /content/gdrive/My\\ Drive/ is equal to /mydrive\n",
        "!ln -s /content/gdrive/My\\ Drive/ /mydrive\n",
        "!ls /mydrive\n",
        "\n",
        "# cd back into the darknet folder\n",
        "%cd darknet\n",
        "\n",
        "# this is where my datasets are stored within my Google Drive\n",
        "!ls /mydrive/yolov4\n",
        "\n",
        "# copy over both datasets into the root directory of the Colab VM\n",
        "!cp /mydrive/yolov4/obj.zip ../\n",
        "!cp /mydrive/yolov4/test.zip ../"
      ]
    },
    {
      "cell_type": "code",
      "execution_count": null,
      "metadata": {
        "id": "A9mYUoKOWWlR"
      },
      "outputs": [],
      "source": [
        "# unzip the datasets and their contents so that they are now in /darknet/data/ folder\n",
        "!unzip ../obj.zip -d data/\n",
        "!unzip ../test.zip -d data/"
      ]
    },
    {
      "cell_type": "markdown",
      "metadata": {
        "id": "SWjNcjfcXKgx"
      },
      "source": [
        "# Configuring Files for Training\n",
        "This step involves properly configuring the custom .cfg, obj.data, obj.names, train.txt and test.txt files necessary for YOLO."
      ]
    },
    {
      "cell_type": "markdown",
      "metadata": {
        "id": "nWZqyTvxdZW1"
      },
      "source": [
        "## i) Cfg File\n",
        "\n",
        "This file has to be customized depending on the problem."
      ]
    },
    {
      "cell_type": "code",
      "execution_count": null,
      "metadata": {
        "id": "kXkXb1tlLCnE"
      },
      "outputs": [],
      "source": [
        "# upload the custom .cfg back to cloud VM\n",
        "!cp /mydrive/yolov4/yolov4-obj.cfg ./cfg"
      ]
    },
    {
      "cell_type": "markdown",
      "metadata": {
        "id": "a4b33o9EiHUD"
      },
      "source": [
        "## ii) obj.names and obj.data\n",
        "Create a new file within a code or text editor called **obj.names** where you will have one class name per line in the same order as your classes.txt from the dataset generation step.\n",
        "\n",
        "In our scenario we have 2 classed, Team 1 and Team 2, because we want to detect players and classify them based on the team."
      ]
    },
    {
      "cell_type": "code",
      "execution_count": null,
      "metadata": {
        "id": "1vuqvzvLUtw2"
      },
      "outputs": [],
      "source": [
        "# upload the obj.names and obj.data files to cloud VM from Google Drive\n",
        "!cp /mydrive/yolov4/obj.names ./data\n",
        "!cp /mydrive/yolov4/obj.data  ./data"
      ]
    },
    {
      "cell_type": "markdown",
      "metadata": {
        "id": "zIA38VpCU1y9"
      },
      "source": [
        "## iii) Generating train.txt and test.txt\n",
        "The last configuration files needed before we can begin to train our custom detector are the train.txt and test.txt files which hold the relative paths to all our training images and valdidation images."
      ]
    },
    {
      "cell_type": "code",
      "execution_count": null,
      "metadata": {
        "id": "DAKjJSJwJb5R"
      },
      "outputs": [],
      "source": [
        "!python generate_train.py\n",
        "!python generate_test.py"
      ]
    },
    {
      "cell_type": "markdown",
      "metadata": {
        "id": "nrkC4l-PbmNS"
      },
      "source": [
        "# Download pre-trained weights\n",
        "This step downloads the weights for the convolutional layers of the YOLOv4 network. By using these weights it helps our custom object detector to be way more accurate and not have to train as long."
      ]
    },
    {
      "cell_type": "code",
      "execution_count": null,
      "metadata": {
        "id": "KcUKbtO-byOE"
      },
      "outputs": [],
      "source": [
        "!wget https://github.com/AlexeyAB/darknet/releases/download/darknet_yolo_v3_optimal/yolov4.conv.137"
      ]
    },
    {
      "cell_type": "markdown",
      "metadata": {
        "id": "POozxsvFdXTu"
      },
      "source": [
        "# Training the network\n",
        "Now we are ready to train the network."
      ]
    },
    {
      "cell_type": "code",
      "execution_count": null,
      "metadata": {
        "id": "imc0NP19hLuq"
      },
      "outputs": [],
      "source": [
        "# %%capture\n",
        "!./darknet detector train data/obj.data cfg/yolov4-obj.cfg yolov4.conv.137 -dont_show -map"
      ]
    },
    {
      "cell_type": "code",
      "execution_count": null,
      "metadata": {
        "id": "uXPGYKmchv7Z"
      },
      "outputs": [],
      "source": [
        "# show chart.png of how custom object detector did with training\n",
        "imShow('chart.png')"
      ]
    },
    {
      "cell_type": "code",
      "execution_count": null,
      "metadata": {
        "id": "Fl7PsmikjCBW"
      },
      "outputs": [],
      "source": [
        "# kick off training from where it last saved\n",
        "!./darknet detector train data/obj.data cfg/yolov4-obj.cfg /mydrive/yolov4/backup/yolov4-obj_last.weights -dont_show -map"
      ]
    },
    {
      "cell_type": "markdown",
      "metadata": {
        "id": "voia4UtxlPMa"
      },
      "source": [
        "# Checking the Mean Average Precision (mAP) of our Model\n"
      ]
    },
    {
      "cell_type": "code",
      "execution_count": null,
      "metadata": {
        "id": "2UoSBmTFlNep"
      },
      "outputs": [],
      "source": [
        "!./darknet detector map data/obj.data cfg/yolov4-obj.cfg /mydrive/yolov4/backup/yolov4-obj_best.weights"
      ]
    },
    {
      "cell_type": "markdown",
      "metadata": {
        "id": "8dfPY2h39m-T"
      },
      "source": [
        "# Running detections"
      ]
    },
    {
      "cell_type": "code",
      "execution_count": null,
      "metadata": {
        "id": "xXkZNeA09o2f"
      },
      "outputs": [],
      "source": [
        "# need to set our custom cfg to test mode\n",
        "%cd cfg\n",
        "!sed -i 's/batch=64/batch=1/' yolov4-obj.cfg\n",
        "!sed -i 's/subdivisions=16/subdivisions=1/' yolov4-obj.cfg\n",
        "%cd .."
      ]
    },
    {
      "cell_type": "code",
      "execution_count": null,
      "metadata": {
        "id": "By0eRXpcxp0c"
      },
      "outputs": [],
      "source": [
        "!python /mydrive/yolov4/yolov4-custom-functions-master/detect.py --weights ./mydrive/yolov4/yolov4-custom-functions-master/data/yolov4-obj_best.weights --size 416 --model yolov4 --images ./mydrive/val/DATASET6386.jpg"
      ]
    },
    {
      "cell_type": "code",
      "execution_count": null,
      "metadata": {
        "id": "o7IIzEal90dA"
      },
      "outputs": [],
      "source": [
        "# run the custom detector with this command\n",
        "!./darknet detector test data/obj.data cfg/yolov4-obj.cfg /mydrive/yolov4/backup/yolov4-obj_best.weights /mydrive/val/DATASET6386.jpg -thresh 0.01 -ext_output\n",
        "imShow('predictions.jpg')\n",
        "!python /mydrive/yolov4/yolov4-custom-functions-master/detect.py --weights ./mydrive/yolov4/yolov4-custom-functions-master/data/yolov4-obj_best.weights --size 416 --model yolov4 --images ./mydrive/val/DATASET6386.jpg"
      ]
    },
    {
      "cell_type": "markdown",
      "source": [
        "## Running detections on videos"
      ],
      "metadata": {
        "id": "QBnlI221DtK_"
      }
    },
    {
      "cell_type": "code",
      "source": [
        "# Upload the video\n",
        "upload()"
      ],
      "metadata": {
        "id": "dEDjOcYcDWOs"
      },
      "execution_count": null,
      "outputs": []
    },
    {
      "cell_type": "code",
      "source": [
        "!./darknet detector demo cfg/coco.data cfg/yolov4.cfg yolov4.weights -dont_show test.mp4 -i 0 -out_filename results.avi"
      ],
      "metadata": {
        "id": "w5iS8MlDDjbl"
      },
      "execution_count": null,
      "outputs": []
    },
    {
      "cell_type": "code",
      "source": [
        "# download the video with detections shown\n",
        "download('results.avi')"
      ],
      "metadata": {
        "id": "g-p_7-GlDrfh"
      },
      "execution_count": null,
      "outputs": []
    }
  ],
  "metadata": {
    "accelerator": "GPU",
    "colab": {
      "provenance": []
    },
    "gpuClass": "standard",
    "kernelspec": {
      "display_name": "Python 3",
      "name": "python3"
    }
  },
  "nbformat": 4,
  "nbformat_minor": 0
}